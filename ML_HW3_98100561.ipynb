{
  "cells": [
    {
      "cell_type": "markdown",
      "metadata": {
        "id": "rrsZhhsVZY_j"
      },
      "source": [
        "<img src=\"./sharif.png\" alt=\"SUT logo\" width=300 height=300 align=left class=\"saturate\">\n",
        "\n",
        "<br>\n",
        "<font>\n",
        "<div dir=ltr align=center>\n",
        "<font color=0F5298 size=7>\n",
        "    Machine Learning <br>\n",
        "<font color=2565AE size=5>\n",
        "    Computer Engineering Department <br>\n",
        "    Spring 2024<br>\n",
        "<font color=3C99D size=5>\n",
        "    Practical Assignment 3<br>\n",
        "<font color=696880 size=4>\n",
        "    Ashkan Majidi - Shayan Salehi - Amirhossein Alamdar\n",
        "\n",
        "____"
      ]
    },
    {
      "cell_type": "markdown",
      "metadata": {
        "id": "69mnuum6ZY_l"
      },
      "source": [
        "# Personal Data"
      ]
    },
    {
      "cell_type": "code",
      "execution_count": null,
      "metadata": {
        "id": "nMcgHAUTZY_l"
      },
      "outputs": [
        {
          "ename": "",
          "evalue": "",
          "output_type": "error",
          "traceback": [
            "\u001b[1;31mRunning cells with 'Python 3.12.2' requires the ipykernel package.\n",
            "\u001b[1;31mRun the following command to install 'ipykernel' into the Python environment. \n",
            "\u001b[1;31mCommand: '/opt/homebrew/bin/python3 -m pip install ipykernel -U --user --force-reinstall'"
          ]
        }
      ],
      "source": [
        "student_number = '98100561'\n",
        "first_name = 'Soheil'\n",
        "last_name = 'Homayoonfard'"
      ]
    },
    {
      "cell_type": "markdown",
      "metadata": {
        "id": "tIp0hQUXZY_l"
      },
      "source": [
        "# Introduction\n",
        "\n",
        "In this assignment, you will implement SVM (Support Vector Machines) for classification.\n"
      ]
    },
    {
      "cell_type": "markdown",
      "metadata": {
        "id": "5uVTW0IxZY_l"
      },
      "source": [
        "# Data Prepfocessing"
      ]
    },
    {
      "cell_type": "markdown",
      "metadata": {
        "id": "Z4FXHAcIZY_l"
      },
      "source": [
        "Import your needed libraries in following cell."
      ]
    },
    {
      "cell_type": "code",
      "execution_count": null,
      "metadata": {
        "id": "8PCUya7YZY_l"
      },
      "outputs": [
        {
          "ename": "",
          "evalue": "",
          "output_type": "error",
          "traceback": [
            "\u001b[1;31mRunning cells with 'Python 3.12.2' requires the ipykernel package.\n",
            "\u001b[1;31mRun the following command to install 'ipykernel' into the Python environment. \n",
            "\u001b[1;31mCommand: '/opt/homebrew/bin/python3 -m pip install ipykernel -U --user --force-reinstall'"
          ]
        }
      ],
      "source": [
        "import copy\n",
        "import cvxopt\n",
        "import numpy as np\n",
        "import pandas as pd\n",
        "import seaborn as sns\n",
        "from sklearn.svm import SVC\n",
        "from sklearn.svm import SVC\n",
        "from scipy.spatial import distance\n",
        "from sklearn.model_selection import GridSearchCV\n",
        "from sklearn.preprocessing import StandardScaler\n",
        "from sklearn.multiclass import OneVsRestClassifier\n",
        "from sklearn.model_selection import train_test_split\n",
        "from sklearn.metrics import accuracy_score, balanced_accuracy_score, confusion_matrix"
      ]
    },
    {
      "cell_type": "markdown",
      "metadata": {
        "id": "xwtevaZiZY_m"
      },
      "source": [
        "Load data from ```satimage``` dataset and split data to features and labels. The ```label``` column is our target variable."
      ]
    },
    {
      "cell_type": "code",
      "execution_count": 3,
      "metadata": {
        "colab": {
          "base_uri": "https://localhost:8080/"
        },
        "id": "N7SQOQRXZY_m",
        "outputId": "9c93ae57-7353-4373-ec17-ea7c7c48dd6d"
      },
      "outputs": [
        {
          "name": "stdout",
          "output_type": "stream",
          "text": [
            "Shape of features (X): (2134, 36)\n",
            "Shape of labels (y): (2134,)\n"
          ]
        }
      ],
      "source": [
        "# Load the dataset\n",
        "data = pd.read_csv(\"satimage.csv\")\n",
        "data['label'].unique()\n",
        "\n",
        "# Split the data into features (X) and labels (y)\n",
        "data = data[(data['label'] == 4) | (data['label'] == 6)]\n",
        "X = data.drop(['label'], axis=1).values\n",
        "y = data['label'].values\n",
        "\n",
        "# Check the shape of X and y\n",
        "print(\"Shape of features (X):\", X.shape)\n",
        "print(\"Shape of labels (y):\", y.shape)"
      ]
    },
    {
      "cell_type": "markdown",
      "metadata": {
        "id": "pzr-kKmAZY_m"
      },
      "source": [
        "Now split data to train, validation and test parts. 60% of data should be used for train, 15% for validation and 25% for test. After that scale the data to Standard Normal Distribution using ```StandardScaler``` class from ```scikit-learn``` library."
      ]
    },
    {
      "cell_type": "code",
      "execution_count": 4,
      "metadata": {
        "colab": {
          "base_uri": "https://localhost:8080/"
        },
        "id": "ituCD_phZY_m",
        "outputId": "c6a5f373-cf5f-498d-bba8-d2579dfd9b4a"
      },
      "outputs": [
        {
          "name": "stdout",
          "output_type": "stream",
          "text": [
            "Shape of X_train_scaled: (1280, 36)\n",
            "Shape of X_val_scaled: (320, 36)\n",
            "Shape of X_test_scaled: (534, 36)\n"
          ]
        }
      ],
      "source": [
        "# Split the data into train, validation, and test sets\n",
        "X_train, X_test, y_train, y_test = train_test_split(X, y, test_size=0.4)\n",
        "X_val, X_test, y_val, y_test = train_test_split(X_test, y_test, test_size=0.625)\n",
        "\n",
        "# Scale the features using StandardScaler\n",
        "scaler = StandardScaler()\n",
        "X_train = scaler.fit_transform(X_train)\n",
        "X_val = scaler.fit_transform(X_val)\n",
        "X_test = scaler.fit_transform(X_test)\n",
        "\n",
        "# Check the shapes of the datasets after splitting and scaling\n",
        "print(\"Shape of X_train_scaled:\", X_train.shape)\n",
        "print(\"Shape of X_val_scaled:\", X_val.shape)\n",
        "print(\"Shape of X_test_scaled:\", X_test.shape)"
      ]
    },
    {
      "cell_type": "markdown",
      "metadata": {
        "id": "BOIFo7NZZY_m"
      },
      "source": [
        "We want to train Binary SVM model for classification between labels 4 and 6. Choose corresponding datas and convert their lables to 1 and -1 respectively for 4 and 6."
      ]
    },
    {
      "cell_type": "code",
      "execution_count": 5,
      "metadata": {
        "colab": {
          "base_uri": "https://localhost:8080/"
        },
        "id": "8ATQZApzZY_m",
        "outputId": "e5c9489e-b6d0-4858-c90e-d164bd3318d9"
      },
      "outputs": [
        {
          "name": "stdout",
          "output_type": "stream",
          "text": [
            "Shape of y_train_binary: (1280,)\n",
            "Shape of y_val_binary: (320,)\n",
            "Shape of y_test_binary: (534,)\n"
          ]
        }
      ],
      "source": [
        "# Convert labels 4 to 1 and 6 to -1\n",
        "y_train = np.where(y_train == 4, 1, -1)\n",
        "y_val = np.where(y_val == 4, 1, -1)\n",
        "y_test = np.where(y_test == 4, 1, -1)\n",
        "\n",
        "# Check the shapes of the binary datasets after filtering and converting labels\n",
        "print(\"Shape of y_train_binary:\", y_train.shape)\n",
        "print(\"Shape of y_val_binary:\", y_val.shape)\n",
        "print(\"Shape of y_test_binary:\", y_test.shape)"
      ]
    },
    {
      "cell_type": "markdown",
      "metadata": {
        "id": "Heoy4lAjZY_m"
      },
      "source": [
        "# Model (50 points)"
      ]
    },
    {
      "cell_type": "markdown",
      "metadata": {
        "id": "e40KGN-yZY_m"
      },
      "source": [
        "Here is soft margin svm convex optimization formulation.\n",
        "$$\n",
        "\\begin{aligned}\n",
        "\\text { Minimize } & \\frac{1}{2}\\|\\mathbf{w}\\|^2+C \\sum_{i=1}^N \\xi_i \\\\\n",
        "\\text { Subject to } & y_i\\left(\\mathbf{w}^T \\mathbf{x}_i+b\\right) \\geq 1-\\xi_i, \\quad i=1,2, \\ldots, N \\\\\n",
        "& \\xi_i \\geq 0, \\quad i=1,2, \\ldots, N\n",
        "\\end{aligned}\n",
        "$$\n",
        "\n",
        "\n",
        "write dual of the soft margin svm optimization problem below:"
      ]
    },
    {
      "cell_type": "markdown",
      "metadata": {
        "id": "WfJv4ttPZY_n"
      },
      "source": [
        "$$\n",
        "\\text{Maximize}\\ \\ \\sum_{n=1}^{N}\\alpha_n-\\frac{1}{2}\\sum_{n=1}^{N}\\sum_{m=1}^{N}\n",
        "\\alpha_n\\alpha_my^{(n)}y^{(m)}x^{{(n)}^T}x^{(m)}\n",
        "$$\n",
        "$$\n",
        "\\text{s.t.}\n",
        "\\begin{cases}\n",
        "    \\sum\\limits_{n=1}^{N}\\alpha_ny^{(n)}=0 \\\\\n",
        "    0\\leq\\alpha_n\\leq C & n=1,\\dots,N\n",
        "\\end{cases}\n",
        "$$"
      ]
    },
    {
      "cell_type": "markdown",
      "metadata": {
        "id": "Y1bJ5elnZY_n"
      },
      "source": [
        "Now you should write this optimization problem in standard Quadratic Program (QP) form and use a QP solver to find optimal answer. Here is General form of a QP:\n",
        "$$\n",
        "\\begin{aligned}\n",
        "\\text { Minimize } & \\frac{1}{2} x^TPx + q^Tx + r \\\\\n",
        "\\text { Subject to } & Gx \\leq h \\\\\n",
        "& Ax = b\n",
        "\\end{aligned}\n",
        "$$\n",
        "\n",
        "Complete functions below and use ```cvxopt``` library which is a common library for solving QPs. Note that you can't use ```scikit-learn``` library.\n"
      ]
    },
    {
      "cell_type": "code",
      "execution_count": 6,
      "metadata": {
        "id": "tueClKa2ZY_n"
      },
      "outputs": [],
      "source": [
        "def soft_margin_svm(X, y, C):\n",
        "\n",
        "    n_samples, n_features = X.shape\n",
        "\n",
        "    # Gram matrix\n",
        "    K = np.dot(X, X.T)\n",
        "\n",
        "    # P, q, G, h, A, b matrices for cvxopt\n",
        "    P = cvxopt.matrix(np.outer(y, y) * K)\n",
        "    q = cvxopt.matrix(-np.ones(n_samples))\n",
        "    G = cvxopt.matrix(np.vstack((np.eye(n_samples) * -1, np.eye(n_samples))))\n",
        "    h = cvxopt.matrix(np.hstack((np.zeros(n_samples), np.ones(n_samples) * C)))\n",
        "    A = cvxopt.matrix(y, (1, n_samples), 'd')\n",
        "    b = cvxopt.matrix(0.0)\n",
        "\n",
        "    # Solve QP problem\n",
        "    solution = cvxopt.solvers.qp(P, q, G, h, A, b)\n",
        "\n",
        "    # Lagrange multipliers\n",
        "    alphas = np.array(solution['x']).flatten()\n",
        "\n",
        "    # Support vectors have non-zero lagrange multipliers\n",
        "    sv = (alphas > 1e-5)\n",
        "    ind = np.arange(len(alphas))[sv]\n",
        "    support_vectors = X[sv]\n",
        "    support_vector_labels = y[sv]\n",
        "    support_vector_alphas = alphas[sv]\n",
        "\n",
        "    return support_vectors, support_vector_labels, support_vector_alphas"
      ]
    },
    {
      "cell_type": "code",
      "execution_count": 7,
      "metadata": {
        "colab": {
          "base_uri": "https://localhost:8080/"
        },
        "id": "3eY61BRgZY_n",
        "outputId": "7a713004-d18a-4eab-ab23-7f144ff7c7b7"
      },
      "outputs": [
        {
          "name": "stdout",
          "output_type": "stream",
          "text": [
            "     pcost       dcost       gap    pres   dres\n",
            " 0: -6.0333e+02 -3.4454e+03  2e+04  3e+00  6e-13\n",
            " 1: -4.1178e+02 -2.3433e+03  3e+03  4e-01  5e-13\n",
            " 2: -3.7754e+02 -7.7981e+02  5e+02  3e-02  4e-13\n",
            " 3: -4.1948e+02 -5.4905e+02  1e+02  8e-03  4e-13\n",
            " 4: -4.3471e+02 -5.1686e+02  9e+01  4e-03  4e-13\n",
            " 5: -4.4565e+02 -4.9432e+02  5e+01  2e-03  3e-13\n",
            " 6: -4.5415e+02 -4.7739e+02  2e+01  6e-04  4e-13\n",
            " 7: -4.5821e+02 -4.7051e+02  1e+01  2e-04  4e-13\n",
            " 8: -4.6113e+02 -4.6592e+02  5e+00  6e-05  4e-13\n",
            " 9: -4.6247e+02 -4.6400e+02  2e+00  1e-05  4e-13\n",
            "10: -4.6293e+02 -4.6342e+02  5e-01  3e-06  4e-13\n",
            "11: -4.6306e+02 -4.6325e+02  2e-01  8e-07  4e-13\n",
            "12: -4.6313e+02 -4.6317e+02  5e-02  3e-14  5e-13\n",
            "13: -4.6315e+02 -4.6315e+02  8e-03  2e-14  4e-13\n",
            "14: -4.6315e+02 -4.6315e+02  4e-04  2e-14  4e-13\n",
            "Optimal solution found.\n"
          ]
        }
      ],
      "source": [
        "C = 1.0\n",
        "support_vectors, support_vector_labels, support_vector_alphas = soft_margin_svm(X_train, y_train, C)"
      ]
    },
    {
      "cell_type": "code",
      "execution_count": 8,
      "metadata": {
        "id": "Waw-VTE1ZY_o"
      },
      "outputs": [],
      "source": [
        "def predict_labels(x_test, support_vectors, support_vector_labels, support_vector_alphas):\n",
        "    # Calculate the kernel matrix between support vectors and test samples\n",
        "    K = np.dot(support_vectors, x_test.T)\n",
        "\n",
        "    # Calculate the decision function using the support vectors, their labels, and alphas\n",
        "    decision_func = np.dot((support_vector_labels * support_vector_alphas).reshape(1, -1), K)\n",
        "\n",
        "    # Predict the labels based on the sign of the decision function\n",
        "    y_pred = np.sign(decision_func).flatten()\n",
        "\n",
        "    return y_pred\n"
      ]
    },
    {
      "cell_type": "code",
      "execution_count": 9,
      "metadata": {
        "id": "sV5VOQs_ZY_o"
      },
      "outputs": [],
      "source": [
        "y_pred = predict_labels(np.array(X_test), support_vectors, support_vector_labels, support_vector_alphas)"
      ]
    },
    {
      "cell_type": "markdown",
      "metadata": {
        "id": "kw8NGr5QZY_o"
      },
      "source": [
        "# Evaluation (20 points)"
      ]
    },
    {
      "cell_type": "markdown",
      "metadata": {
        "id": "pZvzJj35ZY_p"
      },
      "source": [
        "Compute accuracy, balanced accuracy and plot confusion matrix of your trained model using ```Seaborn.heatmap()``` function. Use case of balanced accuracy is when dealing with imbalanced data, i.e. when one of the target classes appears a lot more than the other and it is defined by average of recall of classes. Confusion matrix is a $k\\times k$ (k is number of classes) matrix which cell ij is showing that number of data points labeld i which predicted j. For more detail of evaluation metrics you can see [here](https://neptune.ai/blog/balanced-accuracy).\n",
        "\n",
        "You may use ```scikit-learn``` library to compute these metrics."
      ]
    },
    {
      "cell_type": "code",
      "execution_count": 10,
      "metadata": {
        "id": "N7EsbkbkZY_p"
      },
      "outputs": [],
      "source": [
        "def evaluate(y_test, y_pred):\n",
        "    # Calculate accuracy and balanced accuracy\n",
        "    accuracy = accuracy_score(y_test, y_pred)\n",
        "    balanced_accuracy = balanced_accuracy_score(y_test, y_pred)\n",
        "\n",
        "    # Generate confusion matrix\n",
        "    confusion_mat = confusion_matrix(y_test, y_pred)\n",
        "\n",
        "    # Print evaluation metrics\n",
        "    print(\"Accuracy: \", accuracy)\n",
        "    print(\"Balanced Accuracy: \", balanced_accuracy)\n",
        "    print(\"Confusion Matrix:\\n\", confusion_mat)\n",
        "\n",
        "    return accuracy, balanced_accuracy, confusion_mat"
      ]
    },
    {
      "cell_type": "code",
      "execution_count": 11,
      "metadata": {
        "colab": {
          "base_uri": "https://localhost:8080/"
        },
        "id": "i7fbm6MfzSIO",
        "outputId": "ba22d2b3-56ee-4e87-eaa6-fcac760ecdcb"
      },
      "outputs": [
        {
          "name": "stdout",
          "output_type": "stream",
          "text": [
            "Accuracy:  0.7827715355805244\n",
            "Balanced Accuracy:  0.8286458333333333\n",
            "Confusion Matrix:\n",
            " [[278 106]\n",
            " [ 10 140]]\n"
          ]
        }
      ],
      "source": [
        "_, _, confusion_mat = evaluate(y_test, y_pred)"
      ]
    },
    {
      "cell_type": "code",
      "execution_count": 12,
      "metadata": {
        "colab": {
          "base_uri": "https://localhost:8080/",
          "height": 448
        },
        "id": "m01wWVIPZY_p",
        "outputId": "19087a9c-a963-4931-9135-e5a640cb7c56"
      },
      "outputs": [
        {
          "data": {
            "text/plain": [
              "<Axes: >"
            ]
          },
          "execution_count": 12,
          "metadata": {},
          "output_type": "execute_result"
        },
        {
          "data": {
            "image/png": "[encoded data removed]",
            "text/plain": [
              "<Figure size 640x480 with 2 Axes>"
            ]
          },
          "metadata": {},
          "output_type": "display_data"
        }
      ],
      "source": [
        "cm_matrix = pd.DataFrame(data=confusion_mat, columns=['Predict Negative:-1', 'Predict Positive:1'],\n",
        "                                 index=['Actual Negative:-1', 'Actual Positive:1'])\n",
        "\n",
        "sns.heatmap(cm_matrix, annot=True, fmt='d', cmap='mako')"
      ]
    },
    {
      "cell_type": "markdown",
      "metadata": {
        "id": "NTYgsAj6ZY_p"
      },
      "source": [
        "# Fine-tunning (40 points)"
      ]
    },
    {
      "cell_type": "markdown",
      "metadata": {
        "id": "J7wR-rZhZY_p"
      },
      "source": [
        "like what you did before, implement Soft Margin SVM but now use rbf kernel. To determine rbf $\\gamma$ parameter use validation datas and find best(best by balanced accuracy) $\\gamma$ between 0.001 , 0.01, 1, 10, 100. Not that you can't use ```scikit-learn``` library here."
      ]
    },
    {
      "cell_type": "code",
      "execution_count": 13,
      "metadata": {
        "id": "KAZHPrqSZY_p"
      },
      "outputs": [],
      "source": [
        "def rbf(x1, x2, gamma=1):\n",
        "    \"\"\"Compute the Radial Basis Function (RBF) kernel between two vectors.\"\"\"\n",
        "    diff = np.subtract(x1, x2)\n",
        "    squared_norm = np.dot(diff, diff)\n",
        "    return np.exp(-gamma * squared_norm)\n",
        "\n",
        "def soft_margin_svm(X, y, C, gamma=1):\n",
        "    \"\"\"Train a soft-margin Support Vector Machine (SVM) using the RBF kernel.\"\"\"\n",
        "    n = X.shape[0]\n",
        "\n",
        "    # Compute the RBF kernel matrix\n",
        "    K = np.zeros((n, n))\n",
        "    for i in range(n):\n",
        "        for j in range(n):\n",
        "            K[i, j] = rbf(X[i], X[j], gamma)\n",
        "\n",
        "    # Define the optimization problem\n",
        "    P = cvxopt.matrix(np.outer(y, y) * K)\n",
        "    q = cvxopt.matrix(-np.ones(n))\n",
        "    G = cvxopt.matrix(np.vstack((-np.eye(n), np.eye(n))))\n",
        "    h = cvxopt.matrix(np.hstack((np.zeros(n), C * np.ones(n))))\n",
        "    A = cvxopt.matrix(y, (1, n), 'd')\n",
        "    b = cvxopt.matrix(0.0)\n",
        "\n",
        "    # Solve the optimization problem\n",
        "    solution = cvxopt.solvers.qp(P, q, G, h, A, b)\n",
        "    alphas = np.ravel(solution['x'])\n",
        "\n",
        "    # Extract support vectors, their labels, and corresponding alphas\n",
        "    sv = (alphas > 1e-5)\n",
        "    support_vectors = X[sv]\n",
        "    support_vector_labels = y[sv]\n",
        "    support_vector_alphas = alphas[sv]\n",
        "\n",
        "    return support_vectors, support_vector_labels, support_vector_alphas\n"
      ]
    },
    {
      "cell_type": "code",
      "execution_count": 14,
      "metadata": {
        "colab": {
          "base_uri": "https://localhost:8080/"
        },
        "id": "fv2k640YZY_p",
        "outputId": "3cd1bd3f-afc9-4267-acfd-f9a7ded768cb"
      },
      "outputs": [
        {
          "name": "stdout",
          "output_type": "stream",
          "text": [
            "     pcost       dcost       gap    pres   dres\n",
            " 0: -4.6159e+02 -3.1383e+03  2e+04  3e+00  1e-14\n",
            " 1: -3.2679e+02 -1.9760e+03  2e+03  2e-01  8e-15\n",
            " 2: -3.4110e+02 -6.4505e+02  3e+02  2e-02  7e-15\n",
            " 3: -3.8469e+02 -4.9276e+02  1e+02  6e-03  7e-15\n",
            " 4: -4.0190e+02 -4.5422e+02  5e+01  2e-03  8e-15\n",
            " 5: -4.0999e+02 -4.3762e+02  3e+01  9e-04  7e-15\n",
            " 6: -4.1706e+02 -4.2408e+02  7e+00  2e-04  8e-15\n",
            " 7: -4.1889e+02 -4.2104e+02  2e+00  3e-05  8e-15\n",
            " 8: -4.1971e+02 -4.1989e+02  2e-01  2e-06  8e-15\n",
            " 9: -4.1979e+02 -4.1980e+02  1e-02  9e-08  8e-15\n",
            "10: -4.1979e+02 -4.1979e+02  2e-04  2e-09  9e-15\n",
            "Optimal solution found.\n",
            "Accuracy:  0.796875\n",
            "Balanced Accuracy:  0.8309601960149785\n",
            "Confusion Matrix:\n",
            " [[166  57]\n",
            " [  8  89]]\n",
            "     pcost       dcost       gap    pres   dres\n",
            " 0: -2.4464e+02 -2.5255e+03  1e+04  2e+00  2e-15\n",
            " 1: -1.9884e+02 -1.4271e+03  1e+03  1e-01  1e-15\n",
            " 2: -2.1675e+02 -4.4274e+02  2e+02  2e-02  1e-15\n",
            " 3: -2.4005e+02 -3.0562e+02  7e+01  2e-03  1e-15\n",
            " 4: -2.4925e+02 -2.6917e+02  2e+01  4e-04  1e-15\n",
            " 5: -2.5237e+02 -2.5832e+02  6e+00  7e-05  2e-15\n",
            " 6: -2.5316e+02 -2.5618e+02  3e+00  3e-15  2e-15\n",
            " 7: -2.5369e+02 -2.5472e+02  1e+00  6e-15  2e-15\n",
            " 8: -2.5389e+02 -2.5423e+02  3e-01  7e-15  1e-15\n",
            " 9: -2.5398e+02 -2.5402e+02  4e-02  2e-14  2e-15\n",
            "10: -2.5399e+02 -2.5399e+02  1e-03  6e-15  2e-15\n",
            "11: -2.5399e+02 -2.5399e+02  1e-05  7e-15  2e-15\n",
            "Optimal solution found.\n",
            "Accuracy:  0.8\n",
            "Balanced Accuracy:  0.8273773750635662\n",
            "Confusion Matrix:\n",
            " [[169  54]\n",
            " [ 10  87]]\n",
            "     pcost       dcost       gap    pres   dres\n",
            " 0: -4.2495e+02 -2.1643e+03  2e+03  2e-13  1e-15\n",
            " 1: -4.3381e+02 -5.5966e+02  1e+02  1e-14  5e-16\n",
            " 2: -4.4446e+02 -4.5299e+02  9e+00  1e-14  2e-16\n",
            " 3: -4.4563e+02 -4.4600e+02  4e-01  1e-14  2e-16\n",
            " 4: -4.4571e+02 -4.4572e+02  1e-02  4e-15  2e-16\n",
            " 5: -4.4571e+02 -4.4571e+02  4e-04  1e-14  2e-16\n",
            "Optimal solution found.\n",
            "Accuracy:  0.8\n",
            "Balanced Accuracy:  0.8273773750635662\n",
            "Confusion Matrix:\n",
            " [[169  54]\n",
            " [ 10  87]]\n",
            "     pcost       dcost       gap    pres   dres\n",
            " 0: -4.7428e+02 -2.1499e+03  2e+03  6e-13  4e-16\n",
            " 1: -4.8187e+02 -5.2117e+02  4e+01  9e-14  2e-16\n",
            " 2: -4.8871e+02 -4.8914e+02  4e-01  1e-15  1e-16\n",
            " 3: -4.8879e+02 -4.8879e+02  4e-03  2e-14  8e-17\n",
            " 4: -4.8879e+02 -4.8879e+02  4e-05  2e-15  2e-16\n",
            "Optimal solution found.\n",
            "Accuracy:  0.8\n",
            "Balanced Accuracy:  0.8273773750635662\n",
            "Confusion Matrix:\n",
            " [[169  54]\n",
            " [ 10  87]]\n",
            "     pcost       dcost       gap    pres   dres\n",
            " 0: -4.7428e+02 -2.1499e+03  2e+03  7e-13  4e-16\n",
            " 1: -4.8187e+02 -5.2117e+02  4e+01  7e-14  3e-16\n",
            " 2: -4.8871e+02 -4.8914e+02  4e-01  6e-14  8e-17\n",
            " 3: -4.8879e+02 -4.8879e+02  4e-03  2e-14  7e-17\n",
            " 4: -4.8879e+02 -4.8879e+02  4e-05  9e-15  1e-16\n",
            "Optimal solution found.\n",
            "Accuracy:  0.8\n",
            "Balanced Accuracy:  0.8273773750635662\n",
            "Confusion Matrix:\n",
            " [[169  54]\n",
            " [ 10  87]]\n",
            "Best gamma: 0.01\n"
          ]
        }
      ],
      "source": [
        "# Define the list of gamma values to explore\n",
        "gammas = [0.01, 0.1, 1, 10, 100]\n",
        "\n",
        "# Initialize variables to store the best model's parameters\n",
        "best_gamma = None\n",
        "best_balanced_accuracy = -1\n",
        "best_support_vectors = None\n",
        "best_support_vector_labels = None\n",
        "best_support_vector_alphas = None\n",
        "\n",
        "# Loop over each gamma value\n",
        "for gamma in gammas:\n",
        "    # Train a soft-margin SVM using the current gamma value\n",
        "    support_vectors, support_vector_labels, support_vector_alphas = soft_margin_svm(X_train, y_train, C, gamma)\n",
        "\n",
        "    # Predict labels for the validation set\n",
        "    y_pred = predict_labels(np.array(X_val), support_vectors, support_vector_labels, support_vector_alphas)\n",
        "\n",
        "    # Evaluate the model's performance on the validation set\n",
        "    _, ba1, _ = evaluate(y_val, y_pred)\n",
        "\n",
        "    # Update the best model's parameters if the current model has a higher balanced accuracy\n",
        "    if ba1 > best_balanced_accuracy:\n",
        "        best_gamma = gamma\n",
        "        best_balanced_accuracy = ba1\n",
        "        best_support_vectors = support_vectors\n",
        "        best_support_vector_labels = support_vector_labels\n",
        "        best_support_vector_alphas = support_vector_alphas\n",
        "\n",
        "# Print the best gamma value\n",
        "print(\"Best gamma:\", best_gamma)"
      ]
    },
    {
      "cell_type": "code",
      "execution_count": 15,
      "metadata": {
        "colab": {
          "base_uri": "https://localhost:8080/"
        },
        "id": "J7-6EuwRZY_p",
        "outputId": "497c528a-0d4d-44eb-e3a9-778f7d7b2ace"
      },
      "outputs": [
        {
          "name": "stdout",
          "output_type": "stream",
          "text": [
            "Accuracy:  0.7846441947565543\n",
            "Balanced Accuracy:  0.8360416666666667\n",
            "Confusion Matrix:\n",
            " [[276 108]\n",
            " [  7 143]]\n"
          ]
        }
      ],
      "source": [
        "y_pred = predict_labels(np.array(X_test), best_support_vectors, best_support_vector_labels, best_support_vector_alphas)\n",
        "_, _, confusion_mat = evaluate(y_test, y_pred)"
      ]
    },
    {
      "cell_type": "markdown",
      "metadata": {
        "id": "omrKDEcQZY_q"
      },
      "source": [
        "# Multiclass SVM (30 points + 50 points optional)"
      ]
    },
    {
      "cell_type": "markdown",
      "metadata": {
        "id": "e3nMZP9kZY_q"
      },
      "source": [
        "Now we want implement Multiclass SVM. Use ```SVC``` function with rbf kernel from ```scikit-learn``` package on all train datas (all six classes) and choose best hyperparameters for $C$ and $\\gamma$ between 0.01, 0.1, 1, 10, 100. After that evaluate it with your function.\n",
        "\n",
        "Note that in this example we had enough data to split them in train and validation but in case that we don't have enough data, ```scikit-learn``` has a built-in fast library named ```GridSearchCV()``` which can help us in hyperparameter tunning with cross validation."
      ]
    },
    {
      "cell_type": "code",
      "execution_count": 16,
      "metadata": {
        "id": "az23apgYpLB7"
      },
      "outputs": [],
      "source": [
        "# Load the dataset from CSV file\n",
        "data = pd.read_csv('satimage.csv')\n",
        "\n",
        "# Extract features (X) and target labels (y)\n",
        "X = data.drop(['label'], axis=1).values\n",
        "y = data['label'].values\n",
        "\n",
        "# Split the data into training, validation, and testing sets\n",
        "X_train, X_test, y_train, y_test = train_test_split(X, y, test_size=0.4)\n",
        "X_val, X_test, y_val, y_test = train_test_split(X_test, y_test, test_size=0.625)\n",
        "\n",
        "# Standardize features using scaler (assuming 'scaler' is already defined)\n",
        "X_train = scaler.fit_transform(X_train)\n",
        "X_val = scaler.fit_transform(X_val)\n",
        "X_test = scaler.fit_transform(X_test)"
      ]
    },
    {
      "cell_type": "code",
      "execution_count": 17,
      "metadata": {
        "id": "nvQ8AW93ZY_q"
      },
      "outputs": [],
      "source": [
        "Cs = [0.01, 0.1, 1, 10, 100]\n",
        "gammas = [0.01, 0.1, 1, 10, 100]\n",
        "\n",
        "def evaluate(y_true, y_pred):\n",
        "    \"\"\"Evaluate the performance of a classifier.\"\"\"\n",
        "    accuracy = accuracy_score(y_true, y_pred)\n",
        "    balanced_accuracy = balanced_accuracy_score(y_true, y_pred)\n",
        "    confusion_mat = confusion_matrix(y_true, y_pred)\n",
        "    print(\"Accuracy:\", accuracy)\n",
        "    print(\"Balanced Accuracy:\", balanced_accuracy)\n",
        "    print(\"Confusion Matrix:\\n\", confusion_mat)\n",
        "    return accuracy, balanced_accuracy, confusion_mat"
      ]
    },
    {
      "cell_type": "code",
      "execution_count": 18,
      "metadata": {
        "colab": {
          "base_uri": "https://localhost:8080/"
        },
        "id": "nqYRJU2H8wZv",
        "outputId": "1f64b3c6-d835-4aa5-c2d3-44323b9d93c0"
      },
      "outputs": [
        {
          "name": "stdout",
          "output_type": "stream",
          "text": [
            "Best C: 10\n",
            "Best Gamma: 0.1\n",
            "Accuracy: 0.9129894344313239\n",
            "Balanced Accuracy: 0.8913489179849763\n",
            "Confusion Matrix:\n",
            " [[358   0   2   0   1   0]\n",
            " [  0 175   0   0   5   1]\n",
            " [  5   3 337  13   0   8]\n",
            " [  0   3  32  90   3  13]\n",
            " [  1   2   2   2 166   5]\n",
            " [  0   0   5  27   7 343]]\n"
          ]
        },
        {
          "data": {
            "text/plain": [
              "(0.9129894344313239,\n",
              " 0.8913489179849763,\n",
              " array([[358,   0,   2,   0,   1,   0],\n",
              "        [  0, 175,   0,   0,   5,   1],\n",
              "        [  5,   3, 337,  13,   0,   8],\n",
              "        [  0,   3,  32,  90,   3,  13],\n",
              "        [  1,   2,   2,   2, 166,   5],\n",
              "        [  0,   0,   5,  27,   7, 343]]))"
            ]
          },
          "execution_count": 18,
          "metadata": {},
          "output_type": "execute_result"
        }
      ],
      "source": [
        "# Create the parameter grid\n",
        "param_grid = {'C': Cs, 'gamma': gammas}\n",
        "\n",
        "# Create the GridSearchCV object\n",
        "grid_search = GridSearchCV(SVC(kernel='rbf'), param_grid, cv=5, scoring='accuracy')\n",
        "\n",
        "# Train the model\n",
        "grid_search.fit(X_train, y_train)\n",
        "\n",
        "# Get the best hyperparameters\n",
        "best_C = grid_search.best_params_['C']\n",
        "best_gamma = grid_search.best_params_['gamma']\n",
        "\n",
        "# Print the best hyperparameters\n",
        "print(\"Best C:\", best_C)\n",
        "print(\"Best Gamma:\", best_gamma)\n",
        "\n",
        "# Predict labels on test data using the model with best hyperparameters\n",
        "y_pred = grid_search.predict(X_test)\n",
        "\n",
        "# Evaluate the model\n",
        "evaluate(y_test, y_pred)"
      ]
    },
    {
      "cell_type": "markdown",
      "metadata": {
        "id": "0lRPhte8ZY_q"
      },
      "source": [
        "Implement Multiclass SVM from scratch without using ready functions (optional)."
      ]
    },
    {
      "cell_type": "code",
      "execution_count": 19,
      "metadata": {
        "id": "fnr15qZkZY_q"
      },
      "outputs": [],
      "source": [
        "class SVM:\n",
        "    # Define kernel functions as lambda functions\n",
        "    linear = lambda x, x_, c=0: x @ x_.T\n",
        "    polynomial = lambda x, x_, Q=5: (1 + x @ x_.T)**Q\n",
        "    rbf = lambda x, x_, gamma=10: np.exp(-gamma * distance.cdist(x, x_,'sqeuclidean'))\n",
        "\n",
        "    # Dictionary to map kernel names to kernel functions\n",
        "    kernel_funs = {'linear': linear, 'polynomial': polynomial, 'rbf': rbf}\n",
        "\n",
        "    def __init__(self, kernel='rbf', C=1, k=2):\n",
        "        \"\"\"Initialize the SVM model with hyperparameters.\"\"\"\n",
        "        # Set the hyperparameters\n",
        "        self.kernel_str = kernel\n",
        "        self.kernel = SVM.kernel_funs[kernel]  # Select kernel function based on the kernel name\n",
        "        self.C = C  # Regularization parameter\n",
        "        self.k = k  # Number of classes for multi-class classification\n",
        "\n",
        "        # Training data and support vectors\n",
        "        self.X, self.y = None, None  # Training data\n",
        "        self.alphas = None  # Lagrange multipliers\n",
        "\n",
        "        # For multi-class classification\n",
        "        self.multiclass = False  # Flag to indicate multi-class classification\n",
        "        self.clfs = []  # List to store binary classifiers for multi-class\n",
        "\n",
        "    def fit(self, X, y):\n",
        "        \"\"\"Fit the SVM model to the training data.\"\"\"\n",
        "        # Multi-class classification\n",
        "        if len(np.unique(y)) > 2:\n",
        "            self.multiclass = True\n",
        "            return self.multi_fit(X, y)\n",
        "\n",
        "        # Relabel if needed\n",
        "        if set(np.unique(y)) == {0, 1}:\n",
        "            y[y == 0] = -1\n",
        "\n",
        "        # Ensure y has dimensions Nx1\n",
        "        self.y = y.reshape(-1, 1).astype(np.double)\n",
        "        self.X = X\n",
        "        N = X.shape[0]\n",
        "\n",
        "        # Compute the kernel matrix over all possible pairs of (x, x') in the data\n",
        "        self.K = self.kernel(X, X, self.k)\n",
        "\n",
        "        # Define the optimization problem\n",
        "        P = cvxopt.matrix(self.y @ self.y.T * self.K)\n",
        "        q = cvxopt.matrix(-np.ones((N, 1)))\n",
        "        A = cvxopt.matrix(self.y.T)\n",
        "        b = cvxopt.matrix(np.zeros(1))\n",
        "        G = cvxopt.matrix(np.vstack((-np.identity(N), np.identity(N))))\n",
        "        h = cvxopt.matrix(np.vstack((np.zeros((N,1)), np.ones((N,1)) * self.C)))\n",
        "\n",
        "        # Solve the optimization problem\n",
        "        cvxopt.solvers.options['show_progress'] = False\n",
        "        sol = cvxopt.solvers.qp(P, q, G, h, A, b)\n",
        "        self.alphas = np.array(sol[\"x\"])\n",
        "\n",
        "        # Map support vectors\n",
        "        self.is_sv = ((self.alphas > 1e-3) & (self.alphas <= self.C)).squeeze()\n",
        "        self.margin_sv = np.argmax((1e-3 < self.alphas) & (self.alphas < self.C - 1e-3))\n",
        "\n",
        "    def multi_fit(self, X, y):\n",
        "        \"\"\"Fit the SVM model for multi-class classification.\"\"\"\n",
        "        self.k = len(np.unique(y))\n",
        "        for i in range(self.k):\n",
        "            Xs, Ys = X, copy.copy(y)\n",
        "            Ys[Ys!=i], Ys[Ys==i] = -1, +1\n",
        "            clf = SVM(kernel=self.kernel_str, C=self.C, k=self.k)\n",
        "            clf.fit(Xs, Ys)\n",
        "            self.clfs.append(clf)\n",
        "\n",
        "    def predict(self, X_t):\n",
        "        \"\"\"Predict labels for test data.\"\"\"\n",
        "        if self.multiclass:\n",
        "            return self.multi_predict(X_t)\n",
        "\n",
        "        xₛ, yₛ = self.X[self.margin_sv, np.newaxis], self.y[self.margin_sv]\n",
        "        alphas, y, X= self.alphas[self.is_sv], self.y[self.is_sv], self.X[self.is_sv]\n",
        "\n",
        "        b = yₛ - np.sum(alphas * y * self.kernel(X, xₛ, self.k), axis=0)\n",
        "        score = np.sum(alphas * y * self.kernel(X, X_t, self.k), axis=0) + b\n",
        "        return np.sign(score).astype(int), score\n",
        "\n",
        "    def multi_predict(self, X):\n",
        "        \"\"\"Predict labels for test data in multi-class setting.\"\"\"\n",
        "        preds = np.zeros((X.shape[0], self.k))\n",
        "        for i, clf in enumerate(self.clfs):\n",
        "            _, preds[:, i] = clf.predict(X)\n",
        "        return np.argmax(preds, axis=1)\n",
        "\n",
        "    def evaluate(self, X, y):\n",
        "        \"\"\"Evaluate the performance of the SVM model.\"\"\"\n",
        "        outputs, _ = self.predict(X)\n",
        "        accuracy = np.sum(outputs == y) / len(y)\n",
        "        return round(accuracy, 2)"
      ]
    },
    {
      "cell_type": "code",
      "execution_count": 20,
      "metadata": {
        "colab": {
          "base_uri": "https://localhost:8080/"
        },
        "id": "RcgkVjpKpypT",
        "outputId": "b836a3d7-e691-48e8-eac9-b5426f71cd53"
      },
      "outputs": [
        {
          "name": "stdout",
          "output_type": "stream",
          "text": [
            "Accuracy: 0.22995649471721566\n",
            "Balanced Accuracy: 0.17076502732240437\n",
            "Confusion Matrix:\n",
            " [[361   0   0   0   0   0]\n",
            " [181   0   0   0   0   0]\n",
            " [357   0   9   0   0   0]\n",
            " [140   0   1   0   0   0]\n",
            " [178   0   0   0   0   0]\n",
            " [382   0   0   0   0   0]]\n"
          ]
        }
      ],
      "source": [
        "# Initialize an SVM object with k=6 for multi-class classification\n",
        "my_svm = SVM(k=6)\n",
        "\n",
        "# Fit the SVM model to the training data\n",
        "my_svm.fit(X_train, y_train)\n",
        "\n",
        "# Predict labels for the test data using multi-class prediction\n",
        "y_pred = my_svm.multi_predict(X_test)\n",
        "\n",
        "# Evaluate the performance of the SVM model\n",
        "accuracy = accuracy_score(y_test, y_pred)\n",
        "balanced_accuracy = balanced_accuracy_score(y_test, y_pred)\n",
        "confusion_mat = confusion_matrix(y_test, y_pred)\n",
        "\n",
        "# Print evaluation metrics\n",
        "print(\"Accuracy:\", accuracy)\n",
        "print(\"Balanced Accuracy:\", balanced_accuracy)\n",
        "print(\"Confusion Matrix:\\n\", confusion_mat)"
      ]
    },
    {
      "cell_type": "markdown",
      "metadata": {
        "id": "YYnVGaccZY_q"
      },
      "source": [
        "# Different SVM Kernels (40 points)"
      ]
    },
    {
      "cell_type": "markdown",
      "metadata": {
        "id": "CTvKdwCiZY_q"
      },
      "source": [
        "A kernel in SVM is like a tool that helps solve tricky problems. It lets us work in a space with many dimensions, making complex calculations easier. With kernels, we can deal with lots of dimensions, even an endless amount. Kernels are crucial for sorting data into groups and help spot patterns in the data we're looking at. They're especially good at tackling twisty problems with a straightforward approach.\n",
        "\n",
        "Sometimes, finding a straight line or flat surface to divide data isn't possible, especially as we explore more dimensions. That's where different types of SVM kernels come in handy. They transform twisty, complicated data into a simpler form that's easier to separate. In this explanation, we talk about 4 popular types of these kernels. Also in following cells you can use any package.\n",
        "\n",
        "<img src=\"./kernel.jpg\" alt=\"Types of Kernel Functions\"  align=center class=\"saturate\">"
      ]
    },
    {
      "cell_type": "markdown",
      "metadata": {
        "id": "ldkfR-8rZY_q"
      },
      "source": [
        "### Linear Kernel"
      ]
    },
    {
      "cell_type": "markdown",
      "metadata": {
        "id": "_c45-8aKZY_q"
      },
      "source": [
        "This is the simplest kind of kernel, typically working in one dimension. It works best when dealing with a lot of features. Linear kernels are quicker than other types.\n",
        "\n",
        "**Formula:**\n",
        "\n",
        "$$F(x, x_j) = sum(x, x_j)$$\n",
        "\n",
        "Now Implement svc classifier using a linear kernel. Get the prediction and evaluate it by function which you implemented before. Also plot confusion matrix by `Seaborn`."
      ]
    },
    {
      "cell_type": "code",
      "execution_count": 21,
      "metadata": {
        "colab": {
          "base_uri": "https://localhost:8080/"
        },
        "id": "GQ7auDVFZY_r",
        "outputId": "b87eff49-83f8-4d1d-9f19-b582a3ecad1c"
      },
      "outputs": [
        {
          "name": "stdout",
          "output_type": "stream",
          "text": [
            "Accuracy: 0.8669981354878806\n",
            "Balanced Accuracy: 0.8295360951576113\n",
            "Confusion Matrix:\n",
            " [[358   0   2   0   1   0]\n",
            " [  1 167   0   0  13   0]\n",
            " [  4   0 338  22   0   2]\n",
            " [  0   1  35  71   4  30]\n",
            " [  5   5   0   4 143  21]\n",
            " [  0   0   5  44  15 318]]\n"
          ]
        }
      ],
      "source": [
        "C = 10  # Set the value of C\n",
        "\n",
        "# Initialize a linear SVM classifier with the specified C value\n",
        "svc_linear = SVC(kernel='linear', C=C)\n",
        "\n",
        "# Fit the SVM model to the training data\n",
        "svc_linear.fit(X_train, y_train)\n",
        "\n",
        "# Predict labels for the test data\n",
        "y_pred = svc_linear.predict(X_test)\n",
        "\n",
        "# Evaluate the performance of the SVM model using the evaluate function\n",
        "_, _, confusion_mat = evaluate(y_test, y_pred)\n"
      ]
    },
    {
      "cell_type": "markdown",
      "metadata": {
        "id": "A21ssbwbZY_r"
      },
      "source": [
        "### Gaussian RBF kernel"
      ]
    },
    {
      "cell_type": "markdown",
      "metadata": {
        "id": "-EW_XkaqZY_r"
      },
      "source": [
        "This kernel is a favorite choice in SVM, especially for data that doesn't line up straight. It's great for sorting data when you don't know much about it beforehand.\n",
        "\n",
        "**Formula:**\n",
        "\n",
        "$$F(x, x_j) = \\exp{(-\\gamma ||x - xj||^2)}$$\n",
        "\n",
        "Now, configure the SVC classifier with a sigmoid kernel. Get the prediction and evaluate it by function which you implemented before. Also plot confusion matrix as previous part."
      ]
    },
    {
      "cell_type": "code",
      "execution_count": 22,
      "metadata": {
        "colab": {
          "base_uri": "https://localhost:8080/"
        },
        "id": "UjQFTrqiZY_r",
        "outputId": "49e02950-9faf-4b98-b96b-7774cdf476c6"
      },
      "outputs": [
        {
          "name": "stdout",
          "output_type": "stream",
          "text": [
            "Accuracy: 0.9129894344313239\n",
            "Balanced Accuracy: 0.8913489179849763\n",
            "Confusion Matrix:\n",
            " [[358   0   2   0   1   0]\n",
            " [  0 175   0   0   5   1]\n",
            " [  5   3 337  13   0   8]\n",
            " [  0   3  32  90   3  13]\n",
            " [  1   2   2   2 166   5]\n",
            " [  0   0   5  27   7 343]]\n"
          ]
        }
      ],
      "source": [
        "C = 10  # Set the value of C\n",
        "gamma = 0.1  # Set the value of gamma\n",
        "\n",
        "# Initialize an SVM classifier with RBF kernel, specified C, and gamma values\n",
        "svc_rbf = SVC(kernel='rbf', C=C, gamma=gamma)\n",
        "\n",
        "# Fit the SVM model to the training data\n",
        "svc_rbf.fit(X_train, y_train)\n",
        "\n",
        "# Predict labels for the test data\n",
        "y_pred = svc_rbf.predict(X_test)\n",
        "\n",
        "# Evaluate the performance of the SVM model using the evaluate function\n",
        "_, _, confusion_mat = evaluate(y_test, y_pred)\n"
      ]
    },
    {
      "cell_type": "markdown",
      "metadata": {
        "id": "OE4flRq_ZY_r"
      },
      "source": [
        "### Polynomial Kernel"
      ]
    },
    {
      "cell_type": "markdown",
      "metadata": {
        "id": "5niW3yI6ZY_r"
      },
      "source": [
        "This is a broader version of the linear kernel. It's not as popular because it's not as quick or precise.\n",
        "\n",
        "**Formula:**\n",
        "\n",
        "$$F(x, x_j) = (x.x_j+1)^d$$\n",
        "\n",
        "Now, set up the SVC classifier using a *polynomial* kernel. Get the prediction and evaluate it by function which you implemented before. Also plot confusion matrix as previous parts."
      ]
    },
    {
      "cell_type": "code",
      "execution_count": 23,
      "metadata": {
        "colab": {
          "base_uri": "https://localhost:8080/"
        },
        "id": "z8FvJa-TZY_r",
        "outputId": "c5561bfd-abcb-4057-ea5c-5d0dbb92d09e"
      },
      "outputs": [
        {
          "name": "stdout",
          "output_type": "stream",
          "text": [
            "Accuracy: 0.889372280919826\n",
            "Balanced Accuracy: 0.8728750664413464\n",
            "Confusion Matrix:\n",
            " [[357   0   2   0   2   0]\n",
            " [  1 172   0   2   6   0]\n",
            " [  9   0 329  18   0  10]\n",
            " [  1   3  29  93   2  13]\n",
            " [  1   1   1   2 161  12]\n",
            " [  0   1   6  46  10 319]]\n"
          ]
        }
      ],
      "source": [
        "C = 10  # Set the value of C\n",
        "degree = 6  # Set the degree of the polynomial kernel\n",
        "coef0 = 1  # Set the coefficient for the polynomial kernel\n",
        "\n",
        "# Initialize an SVM classifier with polynomial kernel, specified C, degree, and coef0 values\n",
        "svc_poly = SVC(kernel='poly', C=C, degree=degree, coef0=coef0)\n",
        "\n",
        "# Fit the SVM model to the training data\n",
        "svc_poly.fit(X_train, y_train)\n",
        "\n",
        "# Predict labels for the test data\n",
        "y_pred = svc_poly.predict(X_test)\n",
        "\n",
        "# Evaluate the performance of the SVM model using the evaluate function\n",
        "_, _, confusion_mat = evaluate(y_test, y_pred)\n"
      ]
    },
    {
      "cell_type": "markdown",
      "metadata": {
        "id": "2lP9P9Y1ZY_r"
      },
      "source": [
        "### Sigmoid Kernel"
      ]
    },
    {
      "cell_type": "markdown",
      "metadata": {
        "id": "I_N6UDcJZY_r"
      },
      "source": [
        "This is mainly chosen for use with neural networks. The kernel function acts like the activation function in a two-layer perceptron neural network model, helping to activate the neurons.\n",
        "\n",
        "**Formula:**\n",
        "\n",
        "$$F(x, x_j) = \\tanh(α x a y + c)$$\n",
        "\n",
        "Now, configure the SVC classifier with a sigmoid kernel. Get the prediction and evaluate it by function which you implemented before. Also plot confusion matrix as previous parts."
      ]
    },
    {
      "cell_type": "code",
      "execution_count": 24,
      "metadata": {
        "colab": {
          "base_uri": "https://localhost:8080/"
        },
        "id": "VO6r8fP1ZY_s",
        "outputId": "719a1a14-257a-4b0e-fe94-b0dbf2872344"
      },
      "outputs": [
        {
          "name": "stdout",
          "output_type": "stream",
          "text": [
            "Accuracy: 0.4133001864512119\n",
            "Balanced Accuracy: 0.31317339299386615\n",
            "Confusion Matrix:\n",
            " [[264  43  46   0   0   8]\n",
            " [154  20   1   0   1   5]\n",
            " [151   1 191  17   0   6]\n",
            " [ 22   1  44   0   2  72]\n",
            " [ 19  51   7   2   6  93]\n",
            " [ 26   4  15 149   4 184]]\n"
          ]
        }
      ],
      "source": [
        "C = 10  # Set the value of C\n",
        "gamma = 1  # Set the value of gamma for the sigmoid kernel\n",
        "coef0 = 0  # Set the value of coef0 for the sigmoid kernel\n",
        "\n",
        "# Initialize an SVM classifier with sigmoid kernel, specified C, gamma, and coef0 values\n",
        "svc_sigmoid = SVC(kernel='sigmoid', C=C, gamma=gamma, coef0=coef0)\n",
        "\n",
        "# Fit the SVM model to the training data\n",
        "svc_sigmoid.fit(X_train, y_train)\n",
        "\n",
        "# Predict labels for the test data\n",
        "y_pred = svc_sigmoid.predict(X_test)\n",
        "\n",
        "# Evaluate the performance of the SVM model using the evaluate function\n",
        "_, _, confusion_mat = evaluate(y_test, y_pred)"
      ]
    },
    {
      "cell_type": "markdown",
      "metadata": {
        "id": "kdUJOiBjZY_s"
      },
      "source": [
        "Compare these four kernel functions with each other. What are the main advantages and disadvantages of each one?"
      ]
    },
    {
      "cell_type": "markdown",
      "metadata": {
        "id": "K8eAueWbZY_s"
      },
      "source": [
        "\n",
        "\n",
        "# Linear Kernel:\n",
        "\n",
        "**Advantages**\n",
        "- Computationally efficient, especially with large datasets.\n",
        "- Works well when the data is linearly separable.\n",
        "- Fewer hyperparameters to tune.\n",
        "\n",
        "\n",
        "**Disadvantages**\n",
        "- Limited capacity to capture complex relationships in the data.\n",
        "- Performs poorly when the data is non-linearly separable.\n",
        "\n",
        "# RBF Kernel:\n",
        "\n",
        "**Advantages**\n",
        "- Highly flexible, capable of capturing complex relationships in the data.\n",
        "- Effective in high-dimensional spaces.\n",
        "- Suitable for both linear and non-linear data.\n",
        "\n",
        "\n",
        "**Disadvantages**\n",
        "- Computationally expensive, especially with large datasets.\n",
        "- Sensitive to the choice of hyperparameters, such as the width (gamma) parameter.\n",
        "- Prone to overfitting, especially with noisy data.\n",
        "\n",
        "\n",
        "\n",
        "# Polynomial Kernel:\n",
        "\n",
        "**Advantages**\n",
        "- Capable of capturing complex, non-linear relationships in the data.\n",
        "- Can be computationally efficient for lower degrees.\n",
        "\n",
        "\n",
        "**Disadvantages**\n",
        "- Sensitive to the choice of hyperparameters, such as the degree of the polynomial.\n",
        "- Computationally expensive, especially with higher degrees.\n",
        "- Prone to overfitting, especially with high-degree polynomials.\n",
        "\n",
        "# Sigmoid Kernel:\n",
        "\n",
        "\n",
        "**Advantages**\n",
        "- Can capture non-linear relationships, especially if the data has a sigmoidal shape.\n",
        "- Can be computationally efficient.\n",
        "\n",
        "\n",
        "**Disadvantages**\n",
        "- Sensitive to the choice of hyperparameters, such as the coefficients and intercept.\n",
        "- Prone to poor performance if hyperparameters are not properly tuned.\n",
        "Less commonly used compared to other kernels due to its specific shape requirements."
      ]
    }
  ],
  "metadata": {
    "colab": {
      "collapsed_sections": [
        "69mnuum6ZY_l"
      ],
      "provenance": []
    },
    "kernelspec": {
      "display_name": "Python 3",
      "language": "python",
      "name": "python3"
    },
    "language_info": {
      "codemirror_mode": {
        "name": "ipython",
        "version": 3
      },
      "file_extension": ".py",
      "mimetype": "text/x-python",
      "name": "python",
      "nbconvert_exporter": "python",
      "pygments_lexer": "ipython3",
      "version": "3.12.2"
    }
  },
  "nbformat": 4,
  "nbformat_minor": 0
}
